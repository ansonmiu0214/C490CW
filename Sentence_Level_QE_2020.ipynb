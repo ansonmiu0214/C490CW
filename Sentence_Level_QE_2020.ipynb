{
  "nbformat": 4,
  "nbformat_minor": 0,
  "metadata": {
    "colab": {
      "name": "Sentence_Level_QE_2020.ipynb",
      "provenance": [],
      "toc_visible": true,
      "authorship_tag": "ABX9TyN3MoV10tYEwfqKawHwFIxh",
      "include_colab_link": true
    },
    "kernelspec": {
      "name": "python3",
      "display_name": "Python 3"
    }
  },
  "cells": [
    {
      "cell_type": "markdown",
      "metadata": {
        "id": "view-in-github",
        "colab_type": "text"
      },
      "source": [
        "<a href=\"https://colab.research.google.com/github/ansonmiu0214/C490CW/blob/master/Sentence_Level_QE_2020.ipynb\" target=\"_parent\"><img src=\"https://colab.research.google.com/assets/colab-badge.svg\" alt=\"Open In Colab\"/></a>"
      ]
    },
    {
      "cell_type": "markdown",
      "metadata": {
        "id": "yZxVjhzS2c-V",
        "colab_type": "text"
      },
      "source": [
        "# CO490 Coursework: Quality Estimation\n",
        "\n",
        "__Team__\n",
        "* Anson Miu (kcm116)\n",
        "* Cheryl Chen (czc16)\n",
        "* Clara Gila (acg116)"
      ]
    },
    {
      "cell_type": "markdown",
      "metadata": {
        "id": "lWQnFCxu4dY2",
        "colab_type": "text"
      },
      "source": [
        "## Setup"
      ]
    },
    {
      "cell_type": "code",
      "metadata": {
        "id": "P3D_kGEs2Ytf",
        "colab_type": "code",
        "colab": {}
      },
      "source": [
        ""
      ],
      "execution_count": 0,
      "outputs": []
    },
    {
      "cell_type": "markdown",
      "metadata": {
        "id": "RRPKYtOY4b_R",
        "colab_type": "text"
      },
      "source": [
        "## Utilities"
      ]
    },
    {
      "cell_type": "markdown",
      "metadata": {
        "id": "V6OH0y463VAB",
        "colab_type": "text"
      },
      "source": [
        "## Models"
      ]
    },
    {
      "cell_type": "markdown",
      "metadata": {
        "id": "tA6hjS-d3W8V",
        "colab_type": "text"
      },
      "source": [
        "### 1) Fine-tuning Baseline Regressor\n",
        "---\n",
        "\n",
        "__Pipeline__\n",
        "\n",
        "1. Manual preprocessing\n",
        "    * EN - tokenisation with [spaCy](https://spacy.io),\n",
        "    stopword removal\n",
        "    * ZH - tokenisation with [jieba](https://github.com/fxsjy/jieba),\n",
        "    stopword removal, \n",
        "2. Pretrained embeddings\n",
        "    * EN - GloVe\n",
        "    * ZH - TODO\n",
        "3. Regression model\n",
        "    * SVR\n",
        "    * LinearRegression\n",
        "\n",
        "__Model selection__\n",
        "\n",
        "We perform 2-fold cross validation to select\n",
        "\n",
        "__Evaluation__\n",
        "..."
      ]
    },
    {
      "cell_type": "code",
      "metadata": {
        "id": "_UjgOXZu3WJG",
        "colab_type": "code",
        "colab": {}
      },
      "source": [
        ""
      ],
      "execution_count": 0,
      "outputs": []
    },
    {
      "cell_type": "markdown",
      "metadata": {
        "id": "5C26nlnf3dP2",
        "colab_type": "text"
      },
      "source": [
        "### 2) Baseline with Neural Regressor"
      ]
    },
    {
      "cell_type": "code",
      "metadata": {
        "id": "LCN0Ys0l3saM",
        "colab_type": "code",
        "colab": {}
      },
      "source": [
        ""
      ],
      "execution_count": 0,
      "outputs": []
    },
    {
      "cell_type": "markdown",
      "metadata": {
        "id": "1FcYJx1h390-",
        "colab_type": "text"
      },
      "source": [
        "### 3) Autoencoder with Quality Estimation Vectors"
      ]
    },
    {
      "cell_type": "code",
      "metadata": {
        "id": "YcKqF9EG4EvN",
        "colab_type": "code",
        "colab": {}
      },
      "source": [
        ""
      ],
      "execution_count": 0,
      "outputs": []
    },
    {
      "cell_type": "markdown",
      "metadata": {
        "id": "dSlmNaYv4KUP",
        "colab_type": "text"
      },
      "source": [
        "### 4) BERT with Sentence Embeddings"
      ]
    },
    {
      "cell_type": "code",
      "metadata": {
        "id": "V-z2M1O14PHS",
        "colab_type": "code",
        "colab": {}
      },
      "source": [
        ""
      ],
      "execution_count": 0,
      "outputs": []
    },
    {
      "cell_type": "markdown",
      "metadata": {
        "id": "NSHQkb7V4Pj2",
        "colab_type": "text"
      },
      "source": [
        "### 5) BERT with Sentence-Pair Embeddings"
      ]
    },
    {
      "cell_type": "code",
      "metadata": {
        "id": "vzp6ldw04XnK",
        "colab_type": "code",
        "colab": {}
      },
      "source": [
        ""
      ],
      "execution_count": 0,
      "outputs": []
    }
  ]
}