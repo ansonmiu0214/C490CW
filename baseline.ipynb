{
  "nbformat": 4,
  "nbformat_minor": 0,
  "metadata": {
    "colab": {
      "name": "Coursework_baseline.ipynb",
      "provenance": [],
      "collapsed_sections": [],
      "toc_visible": true,
      "machine_shape": "hm"
    },
    "kernelspec": {
      "name": "python3",
      "display_name": "Python 3"
    },
    "accelerator": "GPU"
  },
  "cells": [
    {
      "cell_type": "markdown",
      "metadata": {
        "id": "omEQHVdOS61G",
        "colab_type": "text"
      },
      "source": [
        "# Coursework: Baseline Model\n",
        "\n",
        "This notebook takes you step by step to the implementation of a simple baseline model to get you started on the coursework. You have a section for the English-German task and another for English-Chinese. They are made to be standalone so feel free to check only one of the sections. However, as the tasks require slighlty different approaches, going through both sections could help you to get inspired for your chosen task, especially each task processes english in a slighlty different way.\n",
        "\n",
        "Enjoy!"
      ]
    },
    {
      "cell_type": "markdown",
      "metadata": {
        "id": "lweXud1Wpemd",
        "colab_type": "text"
      },
      "source": [
        "## A. English-German"
      ]
    },
    {
      "cell_type": "markdown",
      "metadata": {
        "id": "Yu6s3YOf_C93",
        "colab_type": "text"
      },
      "source": [
        "### Importing Data"
      ]
    },
    {
      "cell_type": "code",
      "metadata": {
        "id": "scs7ICZrPFcs",
        "colab_type": "code",
        "colab": {}
      },
      "source": [
        "# Download and unzip the data\n",
        "from os.path import exists\n",
        "if not exists('ende_data.zip'):\n",
        "    !wget -O ende_data.zip https://competitions.codalab.org/my/datasets/download/c748d2c0-d6be-4e36-9f12-ca0e88819c4d\n",
        "    !unzip ende_data.zip"
      ],
      "execution_count": 0,
      "outputs": []
    },
    {
      "cell_type": "code",
      "metadata": {
        "id": "jPy_iwHnOSAZ",
        "colab_type": "code",
        "colab": {}
      },
      "source": [
        "# Check the files\n",
        "import io\n",
        "\n",
        "#English-German\n",
        "print(\"---EN-DE---\")\n",
        "print()\n",
        "\n",
        "with open(\"./train.ende.src\", \"r\") as ende_src:\n",
        "  print(\"Source: \",ende_src.readline())\n",
        "with open(\"./train.ende.mt\", \"r\") as ende_mt:\n",
        "  print(\"Translation: \",ende_mt.readline())\n",
        "with open(\"./train.ende.scores\", \"r\") as ende_scores:\n",
        "  print(\"Score: \",ende_scores.readline())\n"
      ],
      "execution_count": 0,
      "outputs": []
    },
    {
      "cell_type": "markdown",
      "metadata": {
        "id": "wiFHVnfH_Jpv",
        "colab_type": "text"
      },
      "source": [
        "### Computing Sentence Embeddings "
      ]
    },
    {
      "cell_type": "markdown",
      "metadata": {
        "id": "g05fv5GiSyQ4",
        "colab_type": "text"
      },
      "source": [
        "For this baseline model, we will simply use pre-trained GloVe embeddings via the Spacy module and compute the vector for each word and take the global mean for each sentence. We will do the same for both source and translation sentences. For chinese tokenization and embeddings we will have to find other tools.\n",
        "\n",
        "This is a very simplistic approach so feel free to be more creative and play around with how the sentence embeddings are computed for example ;)."
      ]
    },
    {
      "cell_type": "markdown",
      "metadata": {
        "id": "jcjZpNlra8TD",
        "colab_type": "text"
      },
      "source": [
        "GloVe embeddings do not support the Chinese language so in the section of the English-Chinese task we will have to download pretrained Chinese embeddings from word2vec repositories."
      ]
    },
    {
      "cell_type": "code",
      "metadata": {
        "id": "96bRtBbuZLJe",
        "colab_type": "code",
        "colab": {}
      },
      "source": [
        "#Downloading spacy models for english and german\n",
        "\n",
        "!spacy download en_core_web_md\n",
        "!spacy link en_core_web_md en300\n",
        "\n",
        "!spacy download de_core_news_md\n",
        "!spacy link de_core_news_md de300"
      ],
      "execution_count": 0,
      "outputs": []
    },
    {
      "cell_type": "markdown",
      "metadata": {
        "id": "Om6kQX5bX2mB",
        "colab_type": "text"
      },
      "source": [
        "We can now write our functions that will return the average embeddings for a sentence."
      ]
    },
    {
      "cell_type": "markdown",
      "metadata": {
        "id": "nhT2I6WYavY4",
        "colab_type": "text"
      },
      "source": [
        "#### Pre-processing with Spacy"
      ]
    },
    {
      "cell_type": "code",
      "metadata": {
        "id": "19gsNCgnW8ZT",
        "colab_type": "code",
        "colab": {}
      },
      "source": [
        "import numpy as np\n",
        "import spacy\n",
        "\n",
        "from nltk import download\n",
        "from nltk.corpus import stopwords\n",
        "\n",
        "#downloading stopwords from the nltk package\n",
        "download('stopwords') #stopwords dictionary, run once\n",
        "\n",
        "stop_words_en = set(stopwords.words('english'))\n",
        "stop_words_de = set(stopwords.words('german'))\n",
        "\n",
        "def get_sentence_emb(line,nlp,lang):\n",
        "  if lang == 'en':\n",
        "    text = line.lower()\n",
        "    l = [token.lemma_ for token in nlp.tokenizer(text)]\n",
        "    l = ' '.join([word for word in l if word not in stop_words_en])\n",
        "\n",
        "  elif lang == 'de':\n",
        "    text = line.lower()\n",
        "    l = [token.lemma_ for token in nlp.tokenizer(text)]\n",
        "    l= ' '.join([word for word in l if word not in stop_words_de])\n",
        "\n",
        "  sen = nlp(l)\n",
        "  return sen.vector\n",
        "\n",
        "def get_embeddings(f,nlp,lang):\n",
        "  file = open(f) \n",
        "  lines = file.readlines() \n",
        "  sentences_vectors =[]\n",
        "\n",
        "  for l in lines:\n",
        "      vec = get_sentence_emb(l,nlp,lang)\n",
        "      if vec is not None:\n",
        "        vec = np.mean(vec)\n",
        "        sentences_vectors.append(vec)\n",
        "      else:\n",
        "        print(\"didn't work :\", l)\n",
        "        sentences_vectors.append(0)\n",
        "\n",
        "  return sentences_vectors\n"
      ],
      "execution_count": 0,
      "outputs": []
    },
    {
      "cell_type": "markdown",
      "metadata": {
        "id": "NUKMgbo2sreI",
        "colab_type": "text"
      },
      "source": [
        "#### Getting Training and Validation Sets"
      ]
    },
    {
      "cell_type": "markdown",
      "metadata": {
        "id": "ZXqZamIKs30T",
        "colab_type": "text"
      },
      "source": [
        "We will now run the code fo the English-German translations and getting our training and validation sets ready for the regression task.\n"
      ]
    },
    {
      "cell_type": "code",
      "metadata": {
        "id": "GyJr7cIkQ3E8",
        "colab_type": "code",
        "colab": {}
      },
      "source": [
        "import spacy\n",
        "\n",
        "nlp_de =spacy.load('de300')\n",
        "nlp_en =spacy.load('en300')"
      ],
      "execution_count": 0,
      "outputs": []
    },
    {
      "cell_type": "code",
      "metadata": {
        "colab_type": "code",
        "id": "LwoUIDj0otbf",
        "colab": {}
      },
      "source": [
        "import torch\n",
        "\n",
        "#EN-DE files\n",
        "de_train_src = get_embeddings(\"./train.ende.src\",nlp_en,'en')\n",
        "de_train_mt = get_embeddings(\"./train.ende.mt\",nlp_de,'de')\n",
        "\n",
        "f_train_scores = open(\"./train.ende.scores\",'r')\n",
        "de_train_scores = f_train_scores.readlines()\n",
        "\n",
        "de_val_src = get_embeddings(\"./dev.ende.src\",nlp_en,'en')\n",
        "de_val_mt = get_embeddings(\"./dev.ende.mt\",nlp_de,'de')\n",
        "f_val_scores = open(\"./dev.ende.scores\",'r')\n",
        "de_val_scores = f_val_scores.readlines()\n",
        "\n"
      ],
      "execution_count": 0,
      "outputs": []
    },
    {
      "cell_type": "code",
      "metadata": {
        "id": "U_K1CHl5VxiE",
        "colab_type": "code",
        "colab": {}
      },
      "source": [
        "\n",
        "#EN-DE\n",
        "print(f\"Training mt: {len(de_train_mt)} Training src: {len(de_train_src)}\")\n",
        "print()\n",
        "print(f\"Validation mt: {len(de_val_mt)} Validation src: {len(de_val_src)}\")\n"
      ],
      "execution_count": 0,
      "outputs": []
    },
    {
      "cell_type": "code",
      "metadata": {
        "id": "Px7ikaGoy9r0",
        "colab_type": "code",
        "colab": {}
      },
      "source": [
        "#Put the features into a list\n",
        "X_train= [np.array(de_train_src),np.array(de_train_mt)]\n",
        "X_train_de = np.array(X_train).transpose()\n",
        "\n",
        "X_val = [np.array(de_val_src),np.array(de_val_mt)]\n",
        "X_val_de = np.array(X_val).transpose()\n",
        "\n",
        "#Scores\n",
        "train_scores = np.array(de_train_scores).astype(float)\n",
        "y_train_de =train_scores\n",
        "\n",
        "val_scores = np.array(de_val_scores).astype(float)\n",
        "y_val_de =val_scores\n"
      ],
      "execution_count": 0,
      "outputs": []
    },
    {
      "cell_type": "code",
      "metadata": {
        "id": "RFp6yyBl4Kgf",
        "colab_type": "code",
        "colab": {}
      },
      "source": [
        "\n",
        "# RUN IF WANT TO HAVE AVERAGE VECTOR(AND NOT GLOBAL MEAN), THIS GAVE WORSE PERFORMANCE THAN GLOBAL MEAN\n",
        "'''\n",
        "\n",
        "X_train= [np.array(train_src),np.array(train_mt)]\n",
        "X_train = np.array(X_train)\n",
        "\n",
        "\n",
        "X_test = [np.array(test_src),np.array(test_mt)]\n",
        "X_test = np.array(X_test)\n",
        "\n",
        "\n",
        "#Reshaping if using shape >3\n",
        "nsamples, nx, ny = X_train.shape\n",
        "X_train = X_train.reshape((nx,ny*nsamples))\n",
        "\n",
        "nsamples, nx, ny = X_test.shape\n",
        "X_test = X_test.reshape((nx,ny*nsamples))\n",
        "\n",
        "print(X_train.shape)\n",
        "print(X_test.shape)\n",
        "\n",
        "\n",
        "\n",
        "#Scores\n",
        "train_scores = np.array(train_scores).astype(float)\n",
        "y_train =train_scores\n",
        "\n",
        "test_scores = np.array(test_scores).astype(float)\n",
        "y_test =test_scores\n",
        "'''\n"
      ],
      "execution_count": 0,
      "outputs": []
    },
    {
      "cell_type": "markdown",
      "metadata": {
        "id": "XSIE7d8HCTpi",
        "colab_type": "text"
      },
      "source": [
        "### Training the Regressor\n"
      ]
    },
    {
      "cell_type": "markdown",
      "metadata": {
        "id": "3eoY14lNCTe3",
        "colab_type": "text"
      },
      "source": [
        "At this point,  will try SVM and Random Tree Forests and choose the model with the highest Pearson correlation.\n",
        "\n",
        "First we will define our RMSE function."
      ]
    },
    {
      "cell_type": "code",
      "metadata": {
        "id": "dRcegRvW2F2q",
        "colab_type": "code",
        "colab": {}
      },
      "source": [
        "import numpy as np\n",
        "\n",
        "def rmse(predictions, targets):\n",
        "    return np.sqrt(((predictions - targets) ** 2).mean())"
      ],
      "execution_count": 0,
      "outputs": []
    },
    {
      "cell_type": "markdown",
      "metadata": {
        "id": "IerDa2251swL",
        "colab_type": "text"
      },
      "source": [
        "#### SVM"
      ]
    },
    {
      "cell_type": "markdown",
      "metadata": {
        "id": "exHbrWtq14jm",
        "colab_type": "text"
      },
      "source": [
        "SVM have many parameters such as the kernel and the regularizating constant C. Here we will use C = 1 and compare kernels. "
      ]
    },
    {
      "cell_type": "code",
      "metadata": {
        "id": "QiHCkGUgsJ8r",
        "colab_type": "code",
        "colab": {}
      },
      "source": [
        "from sklearn.svm import SVR\n",
        "from scipy.stats.stats import pearsonr\n",
        "\n",
        "for k in ['linear','poly','rbf','sigmoid']:\n",
        "    clf_t = SVR(kernel=k)\n",
        "    clf_t.fit(X_train_de, y_train_de)\n",
        "    print(k)\n",
        "    predictions = clf_t.predict(X_val_de)\n",
        "    pearson = pearsonr(y_val_de, predictions)\n",
        "    print(f'RMSE: {rmse(predictions,y_val_de)} Pearson {pearson[0]}')\n",
        "    print()\n",
        "\n"
      ],
      "execution_count": 0,
      "outputs": []
    },
    {
      "cell_type": "markdown",
      "metadata": {
        "id": "P1Fr1RLm3-Kc",
        "colab_type": "text"
      },
      "source": [
        "Here the best kernel seems to be the polynomial one as it gives us the highest pearson correlation at 0.062."
      ]
    },
    {
      "cell_type": "markdown",
      "metadata": {
        "id": "qg9YSBUG1zaL",
        "colab_type": "text"
      },
      "source": [
        "#### Random Tree Forest"
      ]
    },
    {
      "cell_type": "markdown",
      "metadata": {
        "id": "Au88fVS33K4W",
        "colab_type": "text"
      },
      "source": [
        "Another powerful regressor is the Random Tree Forest. Here we have to choose the number of trees we want to compute and we will pick n_estimators = 1000. The higher the number the longer it will compute. To fine tune that number you could compute the error per number of trees and select the number for which there is no more significant improvement( the \"elbow\" of the graph)."
      ]
    },
    {
      "cell_type": "code",
      "metadata": {
        "id": "VOld4zbmsOGL",
        "colab_type": "code",
        "colab": {}
      },
      "source": [
        "# Import the model we are using\n",
        "\n",
        "from sklearn.ensemble import RandomForestRegressor\n",
        "\n",
        "rf = RandomForestRegressor(n_estimators = 1000, random_state = 666)\n",
        "\n",
        "rf.fit(X_train_de, y_train_de);\n",
        "\n",
        "\n",
        "predictions = rf.predict(X_val_de)\n",
        "\n",
        "pearson = pearsonr(y_val_de, predictions)\n",
        "print('RMSE:', rmse(predictions,y_val_de))\n",
        "print(f\"Pearson {pearson[0]}\")\n"
      ],
      "execution_count": 0,
      "outputs": []
    },
    {
      "cell_type": "markdown",
      "metadata": {
        "id": "0L73jhAc6ZoM",
        "colab_type": "text"
      },
      "source": [
        "In this case, it seems like the SVM with a linear kernel performed the best on our validation set so we will save that model for the test set predictions."
      ]
    },
    {
      "cell_type": "markdown",
      "metadata": {
        "id": "G9puD_0zkC2c",
        "colab_type": "text"
      },
      "source": [
        "### Writing Results"
      ]
    },
    {
      "cell_type": "markdown",
      "metadata": {
        "id": "oQvvIhPDkUnR",
        "colab_type": "text"
      },
      "source": [
        "Here is our function to write the scores into a txt file. We can follow the <Method> <ID> <SCORE> template but having only the scores will work too."
      ]
    },
    {
      "cell_type": "code",
      "metadata": {
        "id": "LN3NtkF4kPxw",
        "colab_type": "code",
        "colab": {}
      },
      "source": [
        "import os\n",
        "\n",
        "def writeScores(method_name,scores):\n",
        "    fn = \"predictions.txt\"\n",
        "    print(\"\")\n",
        "    with open(fn, 'w') as output_file:\n",
        "        for idx,x in enumerate(scores):\n",
        "            #out =  metrics[idx]+\":\"+str(\"{0:.2f}\".format(x))+\"\\n\"\n",
        "            #print(out)\n",
        "            output_file.write(f\"{x}\\n\")"
      ],
      "execution_count": 0,
      "outputs": []
    },
    {
      "cell_type": "code",
      "metadata": {
        "id": "FVss_RLBkFei",
        "colab_type": "code",
        "colab": {}
      },
      "source": [
        "#EN-DE\n",
        "\n",
        "de_test_src = get_embeddings(\"./test.ende.src\",nlp_en,'en')\n",
        "de_test_mt = get_embeddings(\"./test.ende.mt\",nlp_de,'de')\n",
        "\n",
        "X= [np.array(de_test_src),np.array(de_test_mt)]\n",
        "X_test = np.array(X).transpose()\n",
        "\n",
        "#Predict\n",
        "clf_de = SVR(kernel='rbf')\n",
        "clf_de.fit(X_train_de, y_train_de)\n",
        "\n",
        "predictions_de = clf_de.predict(X_val_de)"
      ],
      "execution_count": 0,
      "outputs": []
    },
    {
      "cell_type": "code",
      "metadata": {
        "id": "XWnNUR0Gku_9",
        "colab_type": "code",
        "colab": {}
      },
      "source": [
        "from google.colab import files\n",
        "from zipfile import ZipFile\n",
        "\n",
        "\n",
        "writeScores(\"SVR\",predictions_de)\n",
        "\n",
        "with ZipFile(\"en-de_svr.zip\",\"w\") as newzip:\n",
        "\tnewzip.write(\"predictions.txt\")\n",
        " \n",
        "files.download('en-de_svr.zip') "
      ],
      "execution_count": 0,
      "outputs": []
    },
    {
      "cell_type": "markdown",
      "metadata": {
        "id": "wyaM_P0bynB-",
        "colab_type": "text"
      },
      "source": [
        "### Results\n",
        "\n",
        "Once submitted to codalab, the pearson correlation is 0.0052."
      ]
    },
    {
      "cell_type": "markdown",
      "metadata": {
        "id": "3obhUYW5ptUS",
        "colab_type": "text"
      },
      "source": [
        "##B. English-Chinese\n"
      ]
    },
    {
      "cell_type": "markdown",
      "metadata": {
        "id": "OE9wypehaLrZ",
        "colab_type": "text"
      },
      "source": [
        "### Importing Data"
      ]
    },
    {
      "cell_type": "code",
      "metadata": {
        "id": "_5y34iNipyr3",
        "colab_type": "code",
        "colab": {}
      },
      "source": [
        "from os.path import exists\n",
        "\n",
        "if not exists('enzh_data.zip'):\n",
        "    !wget -O enzh_data.zip https://competitions.codalab.org/my/datasets/download/03e23bd7-8084-4542-997b-6a1ca6dd8a5f\n",
        "    !unzip enzh_data.zip"
      ],
      "execution_count": 0,
      "outputs": []
    },
    {
      "cell_type": "code",
      "metadata": {
        "id": "RlXMiqJXq8fy",
        "colab_type": "code",
        "outputId": "62fef95c-7f38-4475-f84e-cdc9ce3c9d3f",
        "colab": {
          "base_uri": "https://localhost:8080/",
          "height": 153
        }
      },
      "source": [
        "#English-Chinese\n",
        "#Checking Data\n",
        "print(\"---EN-ZH---\")\n",
        "print()\n",
        "\n",
        "with open(\"./train.enzh.src\", \"r\") as enzh_src:\n",
        "  print(\"Source: \",enzh_src.readline())\n",
        "with open(\"./train.enzh.mt\", \"r\") as enzh_mt:\n",
        "  print(\"Translation: \",enzh_mt.readline())\n",
        "with open(\"./train.enzh.scores\", \"r\") as enzh_scores:\n",
        "  print(\"Score: \",enzh_scores.readline())"
      ],
      "execution_count": 54,
      "outputs": [
        {
          "output_type": "stream",
          "text": [
            "---EN-ZH---\n",
            "\n",
            "Source:  The last conquistador then rides on with his sword drawn.\n",
            "\n",
            "Translation:  最后的征服者骑着他的剑继续前进.\n",
            "\n",
            "Score:  -1.5284005772625449\n",
            "\n"
          ],
          "name": "stdout"
        }
      ]
    },
    {
      "cell_type": "markdown",
      "metadata": {
        "id": "GlOd_5a6aTVP",
        "colab_type": "text"
      },
      "source": [
        "### Computing Sentence Embeddings\n"
      ]
    },
    {
      "cell_type": "markdown",
      "metadata": {
        "id": "ZgqjMa_wu0xz",
        "colab_type": "text"
      },
      "source": [
        "For this task, we will compute the embeddings for words in a sentence in one language and compute the global mean for that sentence, and do the same for the other language. However, we will have to find and download pre-traind embeddings for Chinese as Spacy nor GloVe handle it. The embeddings we will be using for Chinese are of dimension 100, therefore we need to adapt the embeddings for english from the dim 300 to 100. Glove does have English embeddings of dim 100 but Spacy does not have that model. So, we will tokenize the sentences using Spacy tokenizer and use GloVe directly."
      ]
    },
    {
      "cell_type": "markdown",
      "metadata": {
        "id": "QsKYMxCSolrx",
        "colab_type": "text"
      },
      "source": [
        "#### Pre-processing English with GloVe"
      ]
    },
    {
      "cell_type": "markdown",
      "metadata": {
        "id": "xd24p41jkv7N",
        "colab_type": "text"
      },
      "source": [
        "With GloVe's function *stoi()* (string to int) we can get the index corresponding to a given word and with the function *itos()* we get the word given its index. To obtain the vector of a word we first get the integer associated with it and then index it into the word embedding tensor with that index. Note that glove takes words in a lower case."
      ]
    },
    {
      "cell_type": "code",
      "metadata": {
        "id": "8lc4rdJnrE_Q",
        "colab_type": "code",
        "outputId": "5321faef-8c19-4595-8142-427834d36f3d",
        "colab": {
          "base_uri": "https://localhost:8080/",
          "height": 156
        }
      },
      "source": [
        "# DON'T RUN IF YOU ALREADY RAN IT IN THE ENGLISH-GERMAN SECTION\n",
        "# Downloading spacy models for english\n",
        "\n",
        "!spacy download en_core_web_md\n",
        "!spacy link en_core_web_md en300"
      ],
      "execution_count": 55,
      "outputs": [
        {
          "output_type": "stream",
          "text": [
            "Requirement already satisfied: en_core_web_md==2.1.0 from https://github.com/explosion/spacy-models/releases/download/en_core_web_md-2.1.0/en_core_web_md-2.1.0.tar.gz#egg=en_core_web_md==2.1.0 in /usr/local/lib/python3.6/dist-packages (2.1.0)\n",
            "\u001b[38;5;2m✔ Download and installation successful\u001b[0m\n",
            "You can now load the model via spacy.load('en_core_web_md')\n",
            "\n",
            "\u001b[38;5;1m✘ Link 'en300' already exists\u001b[0m\n",
            "To overwrite an existing link, use the --force flag\n",
            "\n"
          ],
          "name": "stdout"
        }
      ]
    },
    {
      "cell_type": "code",
      "metadata": {
        "id": "fx3Ja9zWFDj2",
        "colab_type": "code",
        "colab": {}
      },
      "source": [
        "import torchtext\n",
        "import spacy\n",
        "\n",
        "#Embeddings\n",
        "glove = torchtext.vocab.GloVe(name='6B', dim=100)\n",
        "\n",
        "#tokenizer model\n",
        "nlp_en =spacy.load('en300')\n",
        "\n"
      ],
      "execution_count": 0,
      "outputs": []
    },
    {
      "cell_type": "markdown",
      "metadata": {
        "id": "lxjmj7vUv08E",
        "colab_type": "text"
      },
      "source": [
        "We can now write our functions that will return the average embeddings for a sentence."
      ]
    },
    {
      "cell_type": "code",
      "metadata": {
        "id": "2BUi2QiCIi9y",
        "colab_type": "code",
        "outputId": "ef148520-0e1b-4049-fee3-b5254c9fa220",
        "colab": {
          "base_uri": "https://localhost:8080/",
          "height": 51
        }
      },
      "source": [
        "#ENGLISH EMBEDDINGS methods from the section GERMAN-ENGLISH\n",
        "# The difference from previous section is that we will use Glove embeddings directly because we are using a smaller model that spacy doesn't have\n",
        "# We add a method to compute the word embedding and a method to compute the sentence embedding by averaging the word vectors\n",
        "\n",
        "import numpy as np\n",
        "import torch\n",
        "from nltk import download\n",
        "from nltk.corpus import stopwords\n",
        "\n",
        "#downloading stopwords from the nltk package\n",
        "download('stopwords') #stopwords dictionary, run once\n",
        "stop_words_en = set(stopwords.words('english'))\n",
        "\n",
        "\n",
        "def preprocess(sentence,nlp):\n",
        "    text = sentence.lower()\n",
        "    doc = [token.lemma_ for token in  nlp.tokenizer(text)]\n",
        "    doc = [word for word in doc if word not in stop_words_en]\n",
        "    doc = [word for word in doc if word.isalpha()] #restricts string to alphabetic characters only\n",
        "    return doc\n",
        "\n",
        "def get_word_vector(embeddings, word):\n",
        "    try:\n",
        "      vec = embeddings.vectors[embeddings.stoi[word]]\n",
        "      return vec\n",
        "    except KeyError:\n",
        "      # print(f\"Word {word} does not exist\")\n",
        "      pass\n",
        "\n",
        "def get_sentence_vector(embeddings,line):\n",
        "  vectors = []\n",
        "  for w in line:\n",
        "    emb = get_word_vector(embeddings,w)\n",
        "    #do not add if the word is out of vocabulary\n",
        "    if emb is not None:\n",
        "      vectors.append(emb)\n",
        "   \n",
        "  return torch.mean(torch.stack(vectors), 0).numpy()\n",
        "\n",
        "\n",
        "def get_embeddings(f,embeddings,lang):\n",
        "  file = open(f) \n",
        "  lines = file.readlines() \n",
        "  sentences_vectors =[]\n",
        "\n",
        "  for l in lines:\n",
        "    sentence= preprocess(l,lang)\n",
        "    try:\n",
        "      vec = get_sentence_vector(embeddings,sentence)\n",
        "      if vec is None:\n",
        "        vec = np.zeros(100)\n",
        "      sentences_vectors.append(vec)\n",
        "    except Exception as e:\n",
        "      print(e)\n",
        "\n",
        "  return sentences_vectors\n"
      ],
      "execution_count": 57,
      "outputs": [
        {
          "output_type": "stream",
          "text": [
            "[nltk_data] Downloading package stopwords to /root/nltk_data...\n",
            "[nltk_data]   Package stopwords is already up-to-date!\n"
          ],
          "name": "stdout"
        }
      ]
    },
    {
      "cell_type": "markdown",
      "metadata": {
        "id": "f4JnbxSaaasu",
        "colab_type": "text"
      },
      "source": [
        "#### Loading Chinese Word2Vec Embeddings"
      ]
    },
    {
      "cell_type": "markdown",
      "metadata": {
        "id": "t3-NpUxd52nP",
        "colab_type": "text"
      },
      "source": [
        "We now have to download the pre-trained embeddings for Chinese. We will get them from the University of Oslo NLPL repository (http://vectors.nlpl.eu/repository/), which has word2vec vectors of dimension 100.\n",
        "\n",
        " We will also get Chinese stop words from https://github.com/Tony607/Chinese_sentiment_analysis.\n",
        "\n",
        "For embeddings of dimensions 300 you can find them searching on github repositories. One example is https://github.com/Kyubyong/wordvectors.\n",
        "\n",
        "If you want to work on colab and download other embeddings I would suggest you download the file and upload it on your dropbox and get the link from there.\n",
        "\n"
      ]
    },
    {
      "cell_type": "code",
      "metadata": {
        "id": "-jW3S2-rs6BV",
        "colab_type": "code",
        "outputId": "2c1c659e-529f-43eb-8290-11e6af6ea960",
        "colab": {
          "base_uri": "https://localhost:8080/",
          "height": 425
        }
      },
      "source": [
        "\n",
        "!wget -c https://github.com/Tony607/Chinese_sentiment_analysis/blob/master/data/chinese_stop_words.txt\n",
        "\n",
        "!wget -O zh.zip http://vectors.nlpl.eu/repository/20/35.zip\n",
        "\n",
        "!unzip zh.zip \n"
      ],
      "execution_count": 58,
      "outputs": [
        {
          "output_type": "stream",
          "text": [
            "--2020-02-06 16:42:49--  https://github.com/Tony607/Chinese_sentiment_analysis/blob/master/data/chinese_stop_words.txt\n",
            "Resolving github.com (github.com)... 140.82.114.4\n",
            "Connecting to github.com (github.com)|140.82.114.4|:443... connected.\n",
            "HTTP request sent, awaiting response... 200 OK\n",
            "Length: unspecified [text/html]\n",
            "Saving to: ‘chinese_stop_words.txt’\n",
            "\n",
            "\rchinese_stop_words.     [<=>                 ]       0  --.-KB/s               \rchinese_stop_words.     [ <=>                ] 416.89K  --.-KB/s    in 0.05s   \n",
            "\n",
            "2020-02-06 16:42:49 (7.93 MB/s) - ‘chinese_stop_words.txt’ saved [426900]\n",
            "\n",
            "--2020-02-06 16:42:50--  http://vectors.nlpl.eu/repository/20/35.zip\n",
            "Resolving vectors.nlpl.eu (vectors.nlpl.eu)... 129.240.189.225\n",
            "Connecting to vectors.nlpl.eu (vectors.nlpl.eu)|129.240.189.225|:80... connected.\n",
            "HTTP request sent, awaiting response... 200 OK\n",
            "Length: 1458485917 (1.4G) [application/zip]\n",
            "Saving to: ‘zh.zip’\n",
            "\n",
            "zh.zip              100%[===================>]   1.36G  23.1MB/s    in 63s     \n",
            "\n",
            "2020-02-06 16:43:54 (21.9 MB/s) - ‘zh.zip’ saved [1458485917/1458485917]\n",
            "\n",
            "Archive:  zh.zip\n",
            "replace LIST? [y]es, [n]o, [A]ll, [N]one, [r]ename: N\n"
          ],
          "name": "stdout"
        }
      ]
    },
    {
      "cell_type": "markdown",
      "metadata": {
        "id": "AQM6Go4rEe9N",
        "colab_type": "text"
      },
      "source": [
        "We now load the pre-trained word2vec embeddings we downloaded using the gensim package. More info on gensim and how to use it to load models and embeddings here https://radimrehurek.com/gensim/models/word2vec.html"
      ]
    },
    {
      "cell_type": "code",
      "metadata": {
        "id": "uDUbXQ4aMv1K",
        "colab_type": "code",
        "outputId": "15882b2e-7f56-4afe-a9c7-d6762efa5663",
        "colab": {
          "base_uri": "https://localhost:8080/",
          "height": 71
        }
      },
      "source": [
        "from gensim.models import Word2Vec\n",
        "from gensim.models import KeyedVectors\n",
        "\n",
        "wv_from_bin = KeyedVectors.load_word2vec_format(\"model.bin\", binary=True) "
      ],
      "execution_count": 59,
      "outputs": [
        {
          "output_type": "stream",
          "text": [
            "/usr/local/lib/python3.6/dist-packages/smart_open/smart_open_lib.py:402: UserWarning: This function is deprecated, use smart_open.open instead. See the migration notes for details: https://github.com/RaRe-Technologies/smart_open/blob/master/README.rst#migrating-to-the-new-open-function\n",
            "  'See the migration notes for details: %s' % _MIGRATION_NOTES_URL\n"
          ],
          "name": "stderr"
        }
      ]
    },
    {
      "cell_type": "markdown",
      "metadata": {
        "id": "uhZ3HtrdodcW",
        "colab_type": "text"
      },
      "source": [
        "#### Pre-processing Chinese"
      ]
    },
    {
      "cell_type": "markdown",
      "metadata": {
        "id": "her8c6oJFWAa",
        "colab_type": "text"
      },
      "source": [
        "For pre-processing chinese sentence we will use the tokenizer package for chinese called jieba and use the downloaded list of chinese stop words to remove them from our tokens. More info on jieba and its options at https://github.com/fxsjy/jieba. "
      ]
    },
    {
      "cell_type": "code",
      "metadata": {
        "id": "-LA9N1zgsSQl",
        "colab_type": "code",
        "colab": {}
      },
      "source": [
        "\n",
        "import string\n",
        "import jieba\n",
        "import gensim \n",
        "import spacy\n",
        "import numpy as np\n",
        "\n",
        "stop_words = [ line.rstrip() for line in open('./chinese_stop_words.txt',\"r\", encoding=\"utf-8\") ]\n",
        "\n",
        "\n",
        "def get_sentence_vector_zh(line):\n",
        "  vectors = []\n",
        "  for w in line:\n",
        "    try:\n",
        "      emb = wv_from_bin[w]\n",
        "      vectors.append(emb)\n",
        "    except:\n",
        "      pass #Do not add if the word is out of vocabulary\n",
        "  if vectors:\n",
        "    vectors = np.array(vectors)\n",
        "    return np.mean(vectors, axis=0)  \n",
        "\n",
        "\n",
        "def processing_zh(sentence):\n",
        "  seg_list = jieba.lcut(sentence,cut_all=True)\n",
        "  doc = [word for word in seg_list if word not in stop_words]\n",
        "  docs = [e for e in doc if e.isalnum()]\n",
        "  return docs\n",
        "\n",
        "\n",
        "def get_sentence_embeddings_zh(f):\n",
        "  file = open(f) \n",
        "  lines = file.readlines() \n",
        "  sentences_vectors =[]\n",
        "  for l in lines:\n",
        "    sent  = processing_zh(l)\n",
        "    vec = get_sentence_vector_zh(sent)\n",
        "\n",
        "    if vec is None:\n",
        "      vec = np.zeros(100)\n",
        "    sentences_vectors.append(vec)\n",
        "  return sentences_vectors\n",
        "\n",
        "\n"
      ],
      "execution_count": 0,
      "outputs": []
    },
    {
      "cell_type": "code",
      "metadata": {
        "id": "6zVjor64tR8D",
        "colab_type": "code",
        "colab": {}
      },
      "source": [
        "import spacy\n",
        "import torchtext\n",
        "from torchtext import data\n",
        "\n",
        "\n",
        "zh_train_mt = get_sentence_embeddings_zh(\"./train.enzh.mt\")\n",
        "zh_train_src = get_embeddings(\"./train.enzh.src\",glove,nlp_en)\n",
        "f_train_scores = open(\"./train.enzh.scores\",'r')\n",
        "zh_train_scores = f_train_scores.readlines()\n",
        "\n",
        "\n",
        "zh_val_src = get_embeddings(\"./dev.enzh.src\",glove,nlp_en)\n",
        "zh_val_mt = get_sentence_embeddings_zh(\"./dev.enzh.mt\")\n",
        "f_val_scores = open(\"./dev.enzh.scores\",'r')\n",
        "zh_val_scores = f_val_scores.readlines()\n",
        "\n",
        "\n"
      ],
      "execution_count": 0,
      "outputs": []
    },
    {
      "cell_type": "code",
      "metadata": {
        "id": "N-pXbaJzExaE",
        "colab_type": "code",
        "outputId": "f23bbeb6-645d-4df3-a04c-7656b17424c7",
        "colab": {
          "base_uri": "https://localhost:8080/",
          "height": 102
        }
      },
      "source": [
        "print(f\"Training mt: {len(zh_train_mt)} Training src: {len(zh_train_src)}\")\n",
        "print()\n",
        "print(f\"Validation mt: {len(zh_val_mt)} Validation src: {len(zh_val_src)}\")\n",
        "\n",
        "print(f\"CHI Dimension: {zh_train_mt[0].shape}\")\n",
        "print(f\"ENG Dimension: {zh_train_src[0].shape}\")"
      ],
      "execution_count": 62,
      "outputs": [
        {
          "output_type": "stream",
          "text": [
            "Training mt: 7000 Training src: 7000\n",
            "\n",
            "Validation mt: 1000 Validation src: 1000\n",
            "CHI Dimension: (100,)\n",
            "ENG Dimension: (100,)\n"
          ],
          "name": "stdout"
        }
      ]
    },
    {
      "cell_type": "code",
      "metadata": {
        "id": "ljBHJpa9ATNf",
        "colab_type": "code",
        "outputId": "dc878588-d3e7-4904-8063-c0e5afe8a32e",
        "colab": {
          "base_uri": "https://localhost:8080/",
          "height": 51
        }
      },
      "source": [
        "import numpy as np\n",
        "\n",
        "\n",
        "X_train= [zh_train_src, zh_train_mt]\n",
        "# X_train_zh = np.array(X_train).transpose()\n",
        "X_train_zh = np.array([np.concatenate((src, mt)) for src, mt in zip(*X_train)])\n",
        "print('X_train_zh.shape', X_train_zh.shape)\n",
        "\n",
        "X_val = [np.array(zh_val_src),np.array(zh_val_mt)]\n",
        "# X_val_zh = np.array(X_val).transpose()\n",
        "X_val_zh = np.array([np.concatenate((src, mt)) for src, mt in zip(*X_val)])\n",
        "print('X_val_zh.shape', X_val_zh.shape)\n",
        "\n",
        "#Scores\n",
        "train_scores = np.array(zh_train_scores).astype(float)\n",
        "y_train_zh = train_scores\n",
        "\n",
        "val_scores = np.array(zh_val_scores).astype(float)\n",
        "y_val_zh =val_scores\n"
      ],
      "execution_count": 65,
      "outputs": [
        {
          "output_type": "stream",
          "text": [
            "X_train_zh.shape (7000, 200)\n",
            "X_val_zh.shape (1000, 200)\n"
          ],
          "name": "stdout"
        }
      ]
    },
    {
      "cell_type": "markdown",
      "metadata": {
        "id": "qFDUyJdecIzw",
        "colab_type": "text"
      },
      "source": [
        "### Feed-Forward Neural Network\n",
        "\n"
      ]
    },
    {
      "cell_type": "markdown",
      "metadata": {
        "id": "GvNt77KGcPYf",
        "colab_type": "text"
      },
      "source": [
        "#### Defining the network"
      ]
    },
    {
      "cell_type": "code",
      "metadata": {
        "id": "6QfJJmzkcSZp",
        "colab_type": "code",
        "colab": {}
      },
      "source": [
        "import torch.nn.functional as F\n",
        "\n",
        "class FFNN(torch.nn.Module):\n",
        "    def __init__(self, n_features, *hidden_layers):\n",
        "        super().__init__()\n",
        "        prev = n_features\n",
        "        self.hidden_layers = []\n",
        "        for i, hidden in enumerate(hidden_layers):\n",
        "            layer = torch.nn.Linear(prev, hidden)\n",
        "            self.hidden_layers.append(layer)\n",
        "            setattr(self, f'hidden_{i}', layer)\n",
        "\n",
        "            prev = hidden\n",
        "        self.predict = torch.nn.Linear(prev, 1)\n",
        "    \n",
        "    def forward(self, x):\n",
        "        for hidden in self.hidden_layers:\n",
        "            x = F.relu(hidden(x))\n",
        "        return self.predict(x)"
      ],
      "execution_count": 0,
      "outputs": []
    },
    {
      "cell_type": "markdown",
      "metadata": {
        "id": "CC8WC64ydBhU",
        "colab_type": "text"
      },
      "source": [
        "#### Construct network with hyperparameters"
      ]
    },
    {
      "cell_type": "code",
      "metadata": {
        "id": "P4vpzg2rdBII",
        "colab_type": "code",
        "colab": {
          "base_uri": "https://localhost:8080/",
          "height": 238
        },
        "outputId": "759cb541-1b96-4ba3-c8da-81d896dbebf0"
      },
      "source": [
        "def RMSELoss(yhat,y):\n",
        "    return torch.sqrt(torch.mean((yhat-y)**2))\n",
        "\n",
        "EMBEDDING_DIMENSION = 100\n",
        "HIDDEN_LAYERS = [100]\n",
        "LR = 0.001\n",
        "NUM_EPOCHS = 100\n",
        "\n",
        "model = FFNN(2 * EMBEDDING_DIMENSION, *HIDDEN_LAYERS)\n",
        "print(model)\n",
        "\n",
        "optimizer = torch.optim.Adam(model.parameters(), lr=LR)\n",
        "print(optimizer)\n",
        "\n",
        "loss_fn = torch.nn.MSELoss()\n",
        "loss_fn = RMSELoss\n",
        "print(loss_fn)"
      ],
      "execution_count": 163,
      "outputs": [
        {
          "output_type": "stream",
          "text": [
            "FFNN(\n",
            "  (hidden_0): Linear(in_features=200, out_features=100, bias=True)\n",
            "  (predict): Linear(in_features=100, out_features=1, bias=True)\n",
            ")\n",
            "Adam (\n",
            "Parameter Group 0\n",
            "    amsgrad: False\n",
            "    betas: (0.9, 0.999)\n",
            "    eps: 1e-08\n",
            "    lr: 0.001\n",
            "    weight_decay: 0\n",
            ")\n",
            "<function RMSELoss at 0x7f1613f56158>\n"
          ],
          "name": "stdout"
        }
      ]
    },
    {
      "cell_type": "markdown",
      "metadata": {
        "id": "MI01KF3JdW9U",
        "colab_type": "text"
      },
      "source": [
        "#### Train network\n"
      ]
    },
    {
      "cell_type": "code",
      "metadata": {
        "id": "jnf4yv-wdYF4",
        "colab_type": "code",
        "colab": {
          "base_uri": "https://localhost:8080/",
          "height": 1000
        },
        "outputId": "dc4c95f2-b38c-4e63-ff7b-e2bf482d3cbc"
      },
      "source": [
        "from scipy.stats.stats import pearsonr\n",
        "\n",
        "import matplotlib.pyplot as plt\n",
        "%matplotlib inline\n",
        "\n",
        "X_train_zh_tensor = torch.from_numpy(X_train_zh).type(torch.FloatTensor)\n",
        "Y_train_zh = torch.from_numpy(train_scores).type(torch.FloatTensor)\n",
        "\n",
        "X_val_zh_tensor = torch.from_numpy(X_val_zh).type(torch.FloatTensor)\n",
        "Y_val_zh = torch.from_numpy(val_scores).type(torch.FloatTensor)\n",
        "\n",
        "train_losses = []\n",
        "val_losses = []\n",
        "pearsons = []\n",
        "\n",
        "for t in range(NUM_EPOCHS):\n",
        "    prediction = model(X_train_zh_tensor).squeeze()\n",
        "    loss = loss_fn(prediction, Y_train_zh)\n",
        "    train_losses.append(loss.data.numpy())\n",
        "\n",
        "    # Clear gradients\n",
        "    optimizer.zero_grad()\n",
        "\n",
        "    # Propagate loss\n",
        "    loss.backward()\n",
        "\n",
        "    # Apply gradients\n",
        "    optimizer.step()\n",
        "\n",
        "    # Compute validation loss\n",
        "    val_prediction = model(X_val_zh_tensor).squeeze()\n",
        "    val_loss = loss_fn(val_prediction, Y_val_zh)\n",
        "    val_losses.append(val_loss.data.numpy())\n",
        "\n",
        "    pearson_coeff = pearsonr(Y_val_zh.detach(), val_prediction.detach())\n",
        "    pearsons.append(pearson_coeff[0])\n",
        "\n",
        "epochs = np.arange(NUM_EPOCHS)\n",
        "plt.figure(figsize=(10, 20))\n",
        "plt.subplot(2, 1, 1)\n",
        "ax1 = plt.gca()\n",
        "ax1.set_xlabel('epochs')\n",
        "ax1.set_ylabel('training MSE', color='tab:red')\n",
        "ax1.plot(epochs, train_losses, color='tab:red', label='training loss')\n",
        "ax1.tick_params(axis='y', labelcolor='tab:red')\n",
        "\n",
        "ax2 = ax1.twinx()\n",
        "ax2.set_ylabel('validation MSE', color='tab:blue')\n",
        "ax2.plot(epochs, val_losses, color='tab:blue', label='validation loss')\n",
        "ax2.tick_params(axis='y', labelcolor='tab:blue')\n",
        "\n",
        "fig.tight_layout()\n",
        "\n",
        "plt.subplot(2, 1, 2)\n",
        "ax = plt.gca()\n",
        "ax.set_xlabel('epochs')\n",
        "ax.set_ylabel('pearson')\n",
        "ax.plot(epochs, pearsons, label='validation')\n",
        "ax.tick_params(axis='y')\n",
        "\n",
        "plt.show()"
      ],
      "execution_count": 164,
      "outputs": [
        {
          "output_type": "display_data",
          "data": {
            "image/png": "[encoded data removed]",
            "text/plain": [
              "<Figure size 720x1440 with 3 Axes>"
            ]
          },
          "metadata": {
            "tags": []
          }
        }
      ]
    },
    {
      "cell_type": "markdown",
      "metadata": {
        "id": "luNEyefram7Z",
        "colab_type": "text"
      },
      "source": [
        "### Training the Regressor\n"
      ]
    },
    {
      "cell_type": "markdown",
      "metadata": {
        "id": "hvCS6pa-yIIB",
        "colab_type": "text"
      },
      "source": [
        "At this point,  will try SVM and Random Tree Forests and choose the model with the highest Pearson correlation.\n",
        "\n",
        "First we will define our RMSE function."
      ]
    },
    {
      "cell_type": "code",
      "metadata": {
        "id": "USalvKtRAvQv",
        "colab_type": "code",
        "colab": {}
      },
      "source": [
        "import numpy as np\n",
        "\n",
        "def rmse(predictions, targets):\n",
        "    return np.sqrt(((predictions - targets) ** 2).mean())"
      ],
      "execution_count": 0,
      "outputs": []
    },
    {
      "cell_type": "markdown",
      "metadata": {
        "id": "a0wOEUhXgteG",
        "colab_type": "text"
      },
      "source": [
        "#### SVM"
      ]
    },
    {
      "cell_type": "markdown",
      "metadata": {
        "id": "9rY29AeVyM1n",
        "colab_type": "text"
      },
      "source": [
        "SVM have many parameters such as the kernel and the regularizating constant C. Here we will use default C = 1 and compare kernels. "
      ]
    },
    {
      "cell_type": "code",
      "metadata": {
        "id": "Bf_aJK0QK8jx",
        "colab_type": "code",
        "outputId": "f488cc32-b8e8-4046-f2f5-ebebfba90c2b",
        "colab": {
          "base_uri": "https://localhost:8080/",
          "height": 289
        }
      },
      "source": [
        "from sklearn.svm import SVR\n",
        "from scipy.stats.stats import pearsonr\n",
        "\n",
        "for k in ['linear','poly','rbf','sigmoid']:\n",
        "    clf_t = SVR(kernel=k)\n",
        "    clf_t.fit(X_train_zh, y_train_zh)\n",
        "    print(k)\n",
        "    predictions = clf_t.predict(X_val_zh)\n",
        "    pearson = pearsonr(y_val_zh, predictions)\n",
        "    print(f'RMSE: {rmse(predictions,y_val_zh)} Pearson {pearson[0]}')\n",
        "    print()\n"
      ],
      "execution_count": 67,
      "outputs": [
        {
          "output_type": "stream",
          "text": [
            "(7000, 200)\n",
            "linear\n",
            "RMSE: 0.9044962563186333 Pearson 0.3017781690203462\n",
            "\n",
            "(7000, 200)\n",
            "poly\n",
            "RMSE: 0.8990697909416231 Pearson 0.3032902746054339\n",
            "\n",
            "(7000, 200)\n",
            "rbf\n",
            "RMSE: 0.8900985622788053 Pearson 0.3403404558003603\n",
            "\n",
            "(7000, 200)\n",
            "sigmoid\n",
            "RMSE: 7.152607007355879 Pearson -0.03977439348067312\n",
            "\n"
          ],
          "name": "stdout"
        }
      ]
    },
    {
      "cell_type": "markdown",
      "metadata": {
        "id": "yaOP4zpOgkFP",
        "colab_type": "text"
      },
      "source": [
        "In this case, the radial basis function kernel performed the best with a Pearson correlation of 0.1147. "
      ]
    },
    {
      "cell_type": "markdown",
      "metadata": {
        "id": "Wtg69eGbgmHI",
        "colab_type": "text"
      },
      "source": [
        "#### Random Tree Forest"
      ]
    },
    {
      "cell_type": "markdown",
      "metadata": {
        "id": "OD22DmWvyPs-",
        "colab_type": "text"
      },
      "source": [
        "Another powerful regressor is the Random Tree Forest. Here we have to choose the number of trees we want to compute and we will pick n_estimators = 1000. The higher the number the longer it will compute. To fine tune that number you could compute the error per number of trees and select the number for which there is no more significant improvement( the \"elbow\" of the graph)."
      ]
    },
    {
      "cell_type": "code",
      "metadata": {
        "id": "6wEoExkggqHG",
        "colab_type": "code",
        "colab": {}
      },
      "source": [
        "# Import the model we are using\n",
        "\n",
        "from sklearn.ensemble import RandomForestRegressor\n",
        "\n",
        "rf = RandomForestRegressor(n_estimators = 1000, random_state = 666)\n",
        "rf.fit(X_train_zh, y_train_zh);\n",
        "predictions = rf.predict(X_val_zh)\n",
        "\n",
        "pearson = pearsonr(y_val_zh, predictions)\n",
        "print('RMSE:', rmse(predictions,y_val_zh))\n",
        "print(f\"Pearson {pearson[0]}\")"
      ],
      "execution_count": 0,
      "outputs": []
    },
    {
      "cell_type": "markdown",
      "metadata": {
        "id": "QWiQ2X6Lj3iG",
        "colab_type": "text"
      },
      "source": [
        "Finally, we see that SVM with RBF kernel is the best model here. We will now use it to predict on the test set."
      ]
    },
    {
      "cell_type": "markdown",
      "metadata": {
        "id": "cuIsX8LNiOJm",
        "colab_type": "text"
      },
      "source": [
        "### Writing Results"
      ]
    },
    {
      "cell_type": "code",
      "metadata": {
        "id": "5SQlcfiCITuC",
        "colab_type": "code",
        "colab": {}
      },
      "source": [
        "import os\n",
        "\n",
        "def writeScores(method_name,scores):\n",
        "    fn = \"predictions.txt\"\n",
        "    print(\"\")\n",
        "    with open(fn, 'w') as output_file:\n",
        "        for idx,x in enumerate(scores):\n",
        "            #out =  metrics[idx]+\":\"+str(\"{0:.2f}\".format(x))+\"\\n\"\n",
        "            #print(out)\n",
        "            output_file.write(f\"{x}\\n\")\n",
        "  "
      ],
      "execution_count": 0,
      "outputs": []
    },
    {
      "cell_type": "code",
      "metadata": {
        "id": "VC3ALWVEXYVi",
        "colab_type": "code",
        "colab": {}
      },
      "source": [
        "#EN_ZH\n",
        "\n",
        "zh_test_mt = get_sentence_embeddings_zh(\"./test.enzh.mt\")\n",
        "zh_test_src = get_embeddings(\"./test.enzh.src\",glove,nlp_en)\n",
        "\n",
        "X= [np.array(zh_test_mt),np.array(zh_test_src)]\n",
        "X_test_zh = np.array(X).transpose()\n",
        "\n",
        "#Predict\n",
        "clf_zh = SVR(kernel='rbf')\n",
        "clf_zh.fit(X_train_zh, y_train_zh)\n",
        "\n",
        "predictions_zh = clf_zh.predict(X_test_zh)\n"
      ],
      "execution_count": 0,
      "outputs": []
    },
    {
      "cell_type": "code",
      "metadata": {
        "id": "r-nDAsi3Xt-4",
        "colab_type": "code",
        "colab": {}
      },
      "source": [
        "#EN_ZH\n",
        "\n",
        "from google.colab import files\n",
        "from zipfile import ZipFile\n",
        "\n",
        "\n",
        "writeScores(\"SVR\",predictions_zh)\n",
        "\n",
        "with ZipFile(\"en-zh_svr.zip\",\"w\") as newzip:\n",
        "\tnewzip.write(\"predictions.txt\")\n",
        " \n",
        "files.download('en-zh_svr.zip') \n"
      ],
      "execution_count": 0,
      "outputs": []
    },
    {
      "cell_type": "markdown",
      "metadata": {
        "id": "QlGblmKPyUFr",
        "colab_type": "text"
      },
      "source": [
        "### Results"
      ]
    },
    {
      "cell_type": "markdown",
      "metadata": {
        "id": "qWUSJ7kAyXxC",
        "colab_type": "text"
      },
      "source": [
        "Once submitted to codalab, the pearson correlation is 0.0795"
      ]
    }
  ]
}